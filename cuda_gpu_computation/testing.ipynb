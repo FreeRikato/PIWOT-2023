{
 "cells": [
  {
   "cell_type": "code",
   "execution_count": 9,
   "metadata": {},
   "outputs": [
    {
     "name": "stdout",
     "output_type": "stream",
     "text": [
      "1/1 [==============================] - 0s 25ms/step\n",
      "29\n",
      "Predicted Class: 29\n"
     ]
    }
   ],
   "source": [
    "import tensorflow as tf\n",
    "from tensorflow.keras.preprocessing import image\n",
    "import numpy as np\n",
    "from joblib import load\n",
    "\n",
    "model = load('model.joblib')\n",
    "\n",
    "\n",
    "# Load your trained model from the HDF5 file\n",
    "# model_path = r\"model.h5\"  # Replace with the actual path to your HDF5 file\n",
    "# loaded_model = tf.keras.models.load_model(model_path)\n",
    "\n",
    "# Function to preprocess an image for prediction\n",
    "def preprocess_image(image_path):\n",
    "    img = image.load_img(image_path, target_size=(224, 224))  # Assuming your model expects 224x224 images\n",
    "    img_array = image.img_to_array(img)\n",
    "    img_array = np.expand_dims(img_array, axis=0)\n",
    "    img_array /= 255.0  # Normalize pixel values to the range [0, 1]\n",
    "    return img_array\n",
    "\n",
    "# Function to make predictions on an image\n",
    "def predict_image(model, image_path):\n",
    "    preprocessed_image = preprocess_image(image_path)\n",
    "    predictions = model.predict(preprocessed_image)\n",
    "    predicted_class = np.argmax(predictions)\n",
    "    return predicted_class\n",
    "\n",
    "# Path to the image you want to predict\n",
    "image_to_predict_path = r\"dataset-1/Acne and Rosacea Photos/07Acne081101.jpg\"  # Replace with the actual path to your image C:\\Coding\\skin_disease\\dataset-1\\Nail Fungus and other Nail Disease\n",
    "\n",
    "# Make a prediction\n",
    "predicted_class = predict_image(loaded_model, image_to_predict_path)\n",
    "print(predicted_class)\n",
    "#avaliable_class=['Acne and Rosacea Photos','Actinic_keratosis','Atopic Dermatitis Photos','Basal_cell_carcinoma','Bullous Disease Photos','Dermatofibroma','Eczema Photos','Exanthems and Drug Eruptions','Hair Loss Photos Alopecia and other Hair Diseases','Herpes HPV and other STDs Photos','Light Diseases and Disorders of Pigmentation','Lupus and other Connective Tissue diseases','Melanoma','Melanoma Skin Cancer Nevi and Moles','Monkey Pox','Nail Fungus and other Nail Disease','Psoriasis pictures Lichen Planus and related diseases','Scabies Lyme Disease and other Infestations and Bites','Seborrheic Keratoses and other Benign Tumors','Urticaria Hives','Vascular Tumors','Vasculitis Photos','bags','benign_keratosis','bopeng','bruntusan','chicken  pox and measles','cystic','melanotic_nevus','papula','pustula']\n",
    "\n",
    "# Print or use the predicted class as needed\n",
    "print(\"Predicted Class:\", predicted_class)\n",
    "#print(\"Predicted Class:\", avaliable_class[predicted_class-1])"
   ]
  },
  {
   "cell_type": "code",
   "execution_count": null,
   "metadata": {},
   "outputs": [],
   "source": []
  }
 ],
 "metadata": {
  "kernelspec": {
   "display_name": "myenv",
   "language": "python",
   "name": "python3"
  },
  "language_info": {
   "codemirror_mode": {
    "name": "ipython",
    "version": 3
   },
   "file_extension": ".py",
   "mimetype": "text/x-python",
   "name": "python",
   "nbconvert_exporter": "python",
   "pygments_lexer": "ipython3",
   "version": "3.11.6"
  }
 },
 "nbformat": 4,
 "nbformat_minor": 2
}
